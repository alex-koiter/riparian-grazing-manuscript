{
 "cells": [
  {
   "cell_type": "markdown",
   "metadata": {},
   "source": [
    "# Weather\n",
    "\n",
    "Alex Koiter\n",
    "\n",
    "## Load Libraries"
   ],
   "id": "6fe28fe8-805e-4b42-b829-c927708c84a2"
  },
  {
   "cell_type": "code",
   "execution_count": null,
   "metadata": {},
   "outputs": [
    {
     "output_type": "stream",
     "name": "stderr",
     "text": [
      "── Attaching core tidyverse packages ──────────────────────── tidyverse 2.0.0 ──\n",
      "✔ dplyr     1.1.4     ✔ readr     2.1.5\n",
      "✔ forcats   1.0.0     ✔ stringr   1.5.1\n",
      "✔ ggplot2   3.5.1     ✔ tibble    3.2.1\n",
      "✔ lubridate 1.9.4     ✔ tidyr     1.3.1\n",
      "✔ purrr     1.0.4     \n",
      "── Conflicts ────────────────────────────────────────── tidyverse_conflicts() ──\n",
      "✖ dplyr::filter() masks stats::filter()\n",
      "✖ dplyr::lag()    masks stats::lag()\n",
      "ℹ Use the conflicted package (<http://conflicted.r-lib.org/>) to force all conflicts to become errors"
     ]
    },
    {
     "output_type": "stream",
     "name": "stderr",
     "text": [
      "\n",
      "Attaching package: 'janitor'\n",
      "\n",
      "The following objects are masked from 'package:stats':\n",
      "\n",
      "    chisq.test, fisher.test"
     ]
    }
   ],
   "source": [
    "library(tidyverse) \n"
   ],
   "id": "bca0b1d8-6289-45c5-9bef-5e5061c1b008"
  },
  {
   "cell_type": "markdown",
   "metadata": {},
   "source": [
    "## Read in data"
   ],
   "id": "e7317e7d-b3ba-4e32-953a-95970c368710"
  },
  {
   "cell_type": "code",
   "execution_count": null,
   "metadata": {},
   "outputs": [],
   "source": [
    "data <- read_excel(here::here(\"./notebooks/Forrest-Daily-TempRainSoil-20192021-AKoiter.xlsx\")) %>%\n",
    "  clean_names() %>%\n",
    "  mutate(date = ymd(date),\n",
    "         year = year(date),\n",
    "         month = month(date)) %>%\n",
    "  filter(month >4, month < 11) \n"
   ],
   "id": "361bca3e-c5cb-4641-9cd0-6e9a4dd1fa2d"
  },
  {
   "cell_type": "markdown",
   "metadata": {},
   "source": [
    "### precip data"
   ],
   "id": "19c648c7-50d6-485b-9845-11c9cf4067d5"
  },
  {
   "cell_type": "code",
   "execution_count": null,
   "metadata": {},
   "outputs": [],
   "source": [
    "precip <- data %>%\n",
    "  group_by(year) %>%\n",
    "  mutate(cumu_precip = cumsum(pluvio_rain)) %>%\n",
    "  select(date, cumu_precip, pluvio_rain, year)\n"
   ],
   "id": "39438b91-f4e1-4cf0-bdf2-a20b9b4cd8a9"
  },
  {
   "cell_type": "code",
   "execution_count": null,
   "metadata": {},
   "outputs": [],
   "source": [
    "# ggplot(data = data, aes(x = date, y = avg_air_t)) +\n",
    "#   geom_point() +\n",
    "#   theme_bw() +\n",
    "#   facet_wrap(~year, scales = \"free_x\")\n",
    "# ggplot(data = precip, aes(x = date, y = cumu_precip)) +\n",
    "#   geom_point() +\n",
    "#   theme_bw() +\n",
    "#   facet_wrap(~year, scales = \"free_x\")\n"
   ],
   "id": "9080b564-74d1-494c-b2fd-31c45dcf7a6f"
  },
  {
   "cell_type": "markdown",
   "metadata": {},
   "source": [
    "## Sampling dates"
   ],
   "id": "7f48dc85-2dde-4e1a-8b33-981a4b67ca2d"
  },
  {
   "cell_type": "code",
   "execution_count": null,
   "metadata": {},
   "outputs": [],
   "source": [
    "sampling <- tribble(\n",
    "  ~year,    ~start,                 ~end,                    ~ymin, ~ymax,\n",
    "  2019,   as_date(\"2019-09-03\"),  as_date(\"2019-09-15\"),   -Inf,    Inf,\n",
    "  2020,   as_date(\"2020-09-09\"),  as_date(\"2020-09-21\"),   -Inf,    Inf,\n",
    "  2021,   as_date(\"2021-09-04\"),  as_date(\"2021-09-16\"),   -Inf,    Inf)\n"
   ],
   "id": "47b6e94e-40ab-4788-b28d-30ef08d116d8"
  },
  {
   "cell_type": "code",
   "execution_count": null,
   "metadata": {},
   "outputs": [
    {
     "output_type": "stream",
     "name": "stderr",
     "text": [
      "`geom_smooth()` using formula = 'y ~ x'"
     ]
    },
    {
     "output_type": "display_data",
     "metadata": {},
     "data": {}
    }
   ],
   "source": [
    "\n",
    "ggplot() + \n",
    "  theme_bw() +\n",
    "  geom_rect(data = sampling, aes(xmin = start, xmax = end, ymin = ymin, ymax = ymax), alpha = 0.3, fill = \"red\") +\n",
    "  geom_point(data = data, aes(x = date, y = avg_air_t), colour = \"skyblue4\", size = 2,  shape = 21, fill = \"white\") + \n",
    "  stat_smooth(data = data, aes(x = date, y = avg_air_t), method = \"loess\", se = FALSE, colour = \"skyblue4\", linewidth = 1) +\n",
    "  geom_line(data = precip, aes(x = date, y = cumu_precip/12 -10), colour = \"black\") +\n",
    "  scale_y_continuous(name = expression(\"Daily Temperature \" ( degree*C)), \n",
    "                     sec.axis = sec_axis(~ (. + 10) * 12 , name = \"Cumulative Precipitation (mm)\"),\n",
    "                     limits = c(-10, 30),\n",
    "                     expand = c(0, 0)) +\n",
    "  scale_x_date(date_labels = \"%b\", \n",
    "               date_breaks = \"1 month\", \n",
    "               expand = c(0.05,0.05)) +\n",
    "  theme(axis.text.x = element_text(angle = 90, vjust = 0.5, hjust = 1),\n",
    "        axis.title.x = element_blank()) +\n",
    "  facet_wrap(~year, scale = \"free_x\")\n"
   ],
   "id": "5bd2bfb9-e948-43d4-876a-9ddbed9b623e"
  }
 ],
 "nbformat": 4,
 "nbformat_minor": 5,
 "metadata": {}
}
