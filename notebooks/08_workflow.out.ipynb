{
 "cells": [
  {
   "cell_type": "markdown",
   "metadata": {},
   "source": [
    "# Workflow\n",
    "\n",
    "Alex Koiter"
   ],
   "id": "18dd9107-78d8-4d3d-890f-7aa80785b70e"
  },
  {
   "cell_type": "code",
   "execution_count": null,
   "metadata": {},
   "outputs": [],
   "source": [
    "library(DiagrammeR)\n"
   ],
   "id": "b96dd8fa-8585-4ca7-848c-98942239a82c"
  },
  {
   "cell_type": "code",
   "execution_count": null,
   "metadata": {},
   "outputs": [],
   "source": [
    "workflow <- grViz(\"digraph boxes_and_circles {\n",
    "\n",
    "  compound=true;\n",
    "\n",
    "  # a 'graph' statement\n",
    "  graph [overlap = true, fontsize = 10]\n",
    "\n",
    "  # several 'node' statements\n",
    "  node [shape = rectangle,\n",
    "        fixedsize = false, style=filled, fillcolor=white]\n",
    "        \n",
    "  # Helpers\n",
    "  riparian_area [label = 'Select 4 riparian areas' fillcolor = 'khaki1']\n",
    "  plots [label = 'Subdivide each into 4 equal sized plots' fillcolor = 'khaki1']\n",
    "  location [label = 'Indentify sampling zones\\n (Upper, Middle, Lower)' fillcolor = 'khaki1']\n",
    "  assign_treatment [label = 'Randomly assign treatment\\n (Control, Graze, High-graze, Mow)' fillcolor = 'khaki1'] \n",
    "  pre_treatment [label = 'Pre-treatment sampling' fillcolor = '#5C945C']\n",
    "  treatment [label = 'Apply treatments' fillcolor = '#5C945C']\n",
    "  post_treatment [label = 'Post-treatment sampling' fillcolor = '#5C945C']\n",
    "  biomass [label = 'Biomass \\n(Living vegetation)' fillcolor = '#5C945C']\n",
    "  litter [label = 'Litter \\n(Dead vegetation)' fillcolor = '#5C945C']\n",
    "  org [label = 'Organic layer \\n(Humus)' fillcolor = '#5C945C']\n",
    "  ah [label = 'Ah horizon \\n(0-10cm)' fillcolor = '#5C945C']\n",
    "  quadrat [label = '0.5 x 0.5m quadrat' fillcolor = '#5C945C']\n",
    "  probe [label = 'Soil probe \\n(Composite of 5 cores)' fillcolor = '#5C945C']\n",
    "  veg_prep [label = 'Dried, weighed, and homogenized' fillcolor = '#8F784F']\n",
    "  soil_prep [label = 'Dried, disaggregated, and sieved (2mm)' fillcolor = '#8F784F']\n",
    "  wep_soil [label = 'Water Extraction \\n(1:15)' fillcolor = '#5C8194']\n",
    "  wep_veg [label = 'Water Extraction \\n(1:30)' fillcolor = '#5C8194']\n",
    "  filter_1 [label = 'Gravity filtration \\n(Whatman 42 filter)' fillcolor = '#5C8194']\n",
    "  filter_2 [label = 'Syringe filtration \\n(0.45um filter)' fillcolor = '#5C8194']\n",
    "  wep [label = 'Colorimetric analysis \\n(molybdate-ascorbic acid)' fillcolor = '#5C8194']\n",
    "  \n",
    "\n",
    "  # several 'edge' statements\n",
    "  edge []\n",
    "  \n",
    "  riparian_area->plots->location -> assign_treatment->pre_treatment->treatment->post_treatment\n",
    "  quadrat -> biomass -> veg_prep\n",
    "  quadrat -> litter  -> veg_prep\n",
    "  probe -> org -> soil_prep\n",
    "  probe -> ah-> soil_prep\n",
    "  soil_prep-> wep_soil -> filter_1\n",
    "  veg_prep-> wep_veg ->  filter_1\n",
    "  filter_1 -> filter_2 -> wep\n",
    "  post_treatment -> quadrat\n",
    "  pre_treatment -> quadrat\n",
    "  post_treatment -> probe\n",
    "  pre_treatment -> probe\n",
    "}\")\n",
    "#workflow\n"
   ],
   "id": "2f88aefd-80be-4d59-ba3b-76135869a85c"
  },
  {
   "cell_type": "code",
   "execution_count": null,
   "metadata": {},
   "outputs": [],
   "source": [
    "# library(DiagrammeRsvg)\n",
    "# workflow %>%\n",
    "#   export_svg() |>\n",
    "#   charToRaw() |>\n",
    "#   #rsvg::rsvg_pdf(\"Workflow.pdf\") |>\n",
    "#   rsvg::rsvg_png(\"Workflow.png\")\n"
   ],
   "id": "e605c59e-b413-4b68-9eb5-12f78f689a01"
  }
 ],
 "nbformat": 4,
 "nbformat_minor": 5,
 "metadata": {}
}
